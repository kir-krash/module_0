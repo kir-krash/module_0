{
 "cells": [
  {
   "cell_type": "code",
   "execution_count": 16,
   "metadata": {},
   "outputs": [
    {
     "name": "stdout",
     "output_type": "stream",
     "text": [
      "Ваш алгоритм угадывает число в среднем за 5 попыток\n"
     ]
    },
    {
     "data": {
      "text/plain": [
       "5"
      ]
     },
     "execution_count": 16,
     "metadata": {},
     "output_type": "execute_result"
    }
   ],
   "source": [
    "import numpy as np\n",
    "\n",
    "\n",
    "def score_game(game_core, num_range = 100):\n",
    "    '''Запускаем игру 1000 раз, чтобы узнать, как быстро игра угадывает число\n",
    "    Есть возможность указать верхнюю границу ряда'''\n",
    "    count_ls = []\n",
    "    np.random.seed(1)  # фиксируем RANDOM SEED, чтобы ваш эксперимент был воспроизводим!\n",
    "    random_array = np.random.randint(1,num_range+1, size=(1000))\n",
    "    \n",
    "    for number in random_array:\n",
    "        count_ls.append(game_core(number, num_range))\n",
    "    \n",
    "    score = int(np.mean(count_ls))\n",
    "    print(f\"Ваш алгоритм угадывает число в среднем за {score} попыток\")\n",
    "    \n",
    "    return(score)\n",
    "\n",
    "\n",
    "def game_core_v3(number, num_range = 100):\n",
    "    '''Нахождение искомого числа методом бинарного поиска\n",
    "    Функция принимает заданное число и верхнюю границу ряда\n",
    "    Возвращает количество шагов поиска'''\n",
    "    left, right = 1, num_range+1\n",
    "    row = [x for x in range(left,right)]\n",
    "    count = 1\n",
    "    predict = row[len(row)//2 - 1]\n",
    "    \n",
    "    while number != predict:\n",
    "        count += 1\n",
    "        \n",
    "        if number > predict: #Если искомое число во второй половине ряда\n",
    "            left = predict + 1\n",
    "            row = [x for x in range(left, right)]\n",
    "            predict = row[len(row)//2 - 1]\n",
    "        elif number < predict: #Если искомое число в первой половине ряда\n",
    "            right = predict\n",
    "            row = [x for x in range(left, right)]\n",
    "            predict = row[len(row)//2 - 1]\n",
    "    \n",
    "    return(count)\n",
    "\n",
    "\n",
    "score_game(game_core_v3)"
   ]
  }
 ],
 "metadata": {
  "kernelspec": {
   "display_name": "Python 3",
   "language": "python",
   "name": "python3"
  },
  "language_info": {
   "codemirror_mode": {
    "name": "ipython",
    "version": 3
   },
   "file_extension": ".py",
   "mimetype": "text/x-python",
   "name": "python",
   "nbconvert_exporter": "python",
   "pygments_lexer": "ipython3",
   "version": "3.8.3"
  }
 },
 "nbformat": 4,
 "nbformat_minor": 4
}
