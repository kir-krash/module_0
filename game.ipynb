{
 "cells": [
  {
   "cell_type": "code",
   "execution_count": 11,
   "metadata": {},
   "outputs": [
    {
     "name": "stdout",
     "output_type": "stream",
     "text": [
      "Ваш алгоритм угадывает число в среднем за 5 попыток\n"
     ]
    },
    {
     "data": {
      "text/plain": [
       "5"
      ]
     },
     "execution_count": 11,
     "metadata": {},
     "output_type": "execute_result"
    }
   ],
   "source": [
    "import numpy as np\n",
    "\n",
    "def score_game(game_core, num_range = 100):\n",
    "    '''Запускаем игру 1000 раз, чтобы узнать, как быстро игра угадывает число'''\n",
    "    count_ls = []\n",
    "    np.random.seed(1)  # фиксируем RANDOM SEED, чтобы ваш эксперимент был воспроизводим!\n",
    "    random_array = np.random.randint(1,num_range+1, size=(1000))\n",
    "    for number in random_array:\n",
    "        count_ls.append(game_core(number, num_range))\n",
    "    score = int(np.mean(count_ls))\n",
    "    print(f\"Ваш алгоритм угадывает число в среднем за {score} попыток\")\n",
    "    return(score)\n",
    "\n",
    "def game_core_v3(number, num_range = 100):\n",
    "    left, right = 1, num_range+1\n",
    "    row = [x for x in range(left,right)]\n",
    "    count = 1\n",
    "    predict = row[len(row)//2 - 1]\n",
    "    while number != predict:\n",
    "        count += 1\n",
    "        if number > predict:\n",
    "            left = predict + 1\n",
    "            row = [x for x in range(left, right)]\n",
    "            predict = row[len(row)//2 - 1]\n",
    "        elif number < predict:\n",
    "            right = predict\n",
    "            row = [x for x in range(left, right)]\n",
    "            predict = row[len(row)//2 - 1]\n",
    "    return(count)\n",
    "\n",
    "score_game(game_core_v3)"
   ]
  }
 ],
 "metadata": {
  "kernelspec": {
   "display_name": "Python 3",
   "language": "python",
   "name": "python3"
  },
  "language_info": {
   "codemirror_mode": {
    "name": "ipython",
    "version": 3
   },
   "file_extension": ".py",
   "mimetype": "text/x-python",
   "name": "python",
   "nbconvert_exporter": "python",
   "pygments_lexer": "ipython3",
   "version": "3.8.3"
  }
 },
 "nbformat": 4,
 "nbformat_minor": 4
}
