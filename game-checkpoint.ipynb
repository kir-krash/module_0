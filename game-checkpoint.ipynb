{
 "cells": [
  {
   "cell_type": "code",
   "execution_count": 27,
   "metadata": {},
   "outputs": [
    {
     "name": "stdout",
     "output_type": "stream",
     "text": [
      "Ваш алгоритм <function game_core_v3 at 0x00000283053D11F0> угадывает число в среднем за 5 попыток\n",
      "Ваш алгоритм <function game_core_v4 at 0x0000028304EF2790> угадывает число в среднем за 1 попыток\n"
     ]
    },
    {
     "data": {
      "text/plain": [
       "1"
      ]
     },
     "execution_count": 27,
     "metadata": {},
     "output_type": "execute_result"
    }
   ],
   "source": [
    "import numpy as np\n",
    "\n",
    "\n",
    "def score_game(game_core, num_range = 100):\n",
    "    '''Запускаем игру 1000 раз, чтобы узнать, как быстро игра угадывает число\n",
    "    Есть возможность указать верхнюю границу ряда'''\n",
    "    count_ls = []\n",
    "    np.random.seed(1)  # фиксируем RANDOM SEED, чтобы ваш эксперимент был воспроизводим!\n",
    "    random_array = np.random.randint(1,num_range+1, size=(1000))\n",
    "    \n",
    "    for number in random_array:\n",
    "        count_ls.append(game_core(number, num_range))\n",
    "    \n",
    "    score = int(np.mean(count_ls))\n",
    "    print(f\"Ваш алгоритм {game_core} угадывает число в среднем за {score} попыток\")\n",
    "    \n",
    "    return(score)\n",
    "\n",
    "\n",
    "def get_predict(left_b, right_b):\n",
    "    '''Нахождение элемента в середине списка из \n",
    "    последовательности целых чисел из указанного диапазона'''    \n",
    "    row = [x for x in range(left_b,right_b)]\n",
    "    \n",
    "    return row[len(row)//2 - 1]\n",
    "    \n",
    "\n",
    "def game_core_v3(number, num_range = 100):\n",
    "    '''Нахождение искомого числа методом бинарного поиска\n",
    "    Функция принимает заданное число и верхнюю границу ряда\n",
    "    Возвращает количество шагов поиска'''\n",
    "     \n",
    "    left, right = 1, num_range+1\n",
    "    count = 1\n",
    "    predict = get_predict(left, right) #Находим число в середине ряда\n",
    "    \n",
    "    while number != predict:\n",
    "        count += 1\n",
    "        \n",
    "        if number > predict: #Если искомое число во второй половине ряда\n",
    "            left = predict + 1\n",
    "            predict = get_predict(left, right)\n",
    "        elif number < predict: #Если искомое число в первой половине ряда\n",
    "            right = predict\n",
    "            predict = get_predict(left, right)\n",
    "    \n",
    "    return(count)\n",
    "\n",
    "\n",
    "def game_core_v4(number, num_range = 100):\n",
    "    '''Нахождение искомого числа методом интерполяционного поиска\n",
    "    Функция принимает заданное число и верхнюю границу ряда\n",
    "    Возвращает количество шагов поиска'''\n",
    "    row = [x for x in range(1, num_range + 1)]\n",
    "    left, right = 0, len(row) - 1\n",
    "    count = 1\n",
    "    mid = int(left + (number - row[left])\n",
    "              * (right - left) / (row[right] - row[left]))\n",
    "    #Определяем предполагаемую позицию искомого элемента в ряду\n",
    "    #Для последовательности натуральных чисел \n",
    "    #позиция искомого элемента определяется однозначно\n",
    "    \n",
    "    while row[mid] != number:\n",
    "        count += 1\n",
    "        if row[mid] < number:\n",
    "            left = mid + 1\n",
    "        \n",
    "        elif row[mid] > number:\n",
    "            right = mid - 1\n",
    "        \n",
    "        mid = int(left + (number - row[left]) \n",
    "                  * (right - left) / (row[right] - row[left]))\n",
    "    \n",
    "    return(count)\n",
    "\n",
    "\n",
    "score_game(game_core_v3)\n",
    "score_game(game_core_v4)"
   ]
  }
 ],
 "metadata": {
  "kernelspec": {
   "display_name": "Python 3",
   "language": "python",
   "name": "python3"
  },
  "language_info": {
   "codemirror_mode": {
    "name": "ipython",
    "version": 3
   },
   "file_extension": ".py",
   "mimetype": "text/x-python",
   "name": "python",
   "nbconvert_exporter": "python",
   "pygments_lexer": "ipython3",
   "version": "3.8.3"
  }
 },
 "nbformat": 4,
 "nbformat_minor": 4
}
